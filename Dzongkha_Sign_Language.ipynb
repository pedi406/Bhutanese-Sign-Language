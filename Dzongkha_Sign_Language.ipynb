{
  "cells": [
    {
      "cell_type": "markdown",
      "metadata": {
        "id": "7ckR7ZI5fazf"
      },
      "source": [
        "# **Dzongkha Sign Language Detection**\n",
        "\n",
        "Bhutan set up the program for the deaf in a hearing school in Thimphu (capital of Bhutan) ca. 2000, and the first dedicated school, in Paro (place in Bhutan), was approved in 2013. Deaf education includes developing BSL, Bhutanese Sign Language as the language of instruction. \n",
        "\n",
        "Deep Learning plays important role to classify BSL to communicate with disable people in Bhutan, deaf. Convolutional Neural Network, CNN is the most prominent algorithm to detect and recognize the sign language (computer vision application).\n"
      ]
    },
    {
      "cell_type": "markdown",
      "source": [
        "Connect with google drive"
      ],
      "metadata": {
        "id": "WvT1m9NVOZLe"
      }
    },
    {
      "cell_type": "code",
      "execution_count": null,
      "metadata": {
        "colab": {
          "base_uri": "https://localhost:8080/"
        },
        "id": "TbW13U-yyFzm",
        "outputId": "12fd8ae2-d438-409f-833e-396aa553805b"
      },
      "outputs": [
        {
          "output_type": "stream",
          "name": "stdout",
          "text": [
            "Mounted at /content/drive\n"
          ]
        }
      ],
      "source": [
        "from google.colab import drive\n",
        "drive.mount('/content/drive')"
      ]
    },
    {
      "cell_type": "markdown",
      "source": [
        "Import Libraries"
      ],
      "metadata": {
        "id": "gEfwYA_HOkDB"
      }
    },
    {
      "cell_type": "code",
      "execution_count": null,
      "metadata": {
        "id": "mSYFiti3njDC"
      },
      "outputs": [],
      "source": [
        "import numpy as np\n",
        "import pandas as pd\n",
        "%matplotlib inline\n",
        "import matplotlib as mpl\n",
        "import matplotlib.pyplot as plt\n",
        "import os\n",
        "\n",
        "import tensorflow as tf\n",
        "from tensorflow import keras"
      ]
    },
    {
      "cell_type": "code",
      "execution_count": null,
      "metadata": {
        "id": "EvfdJYRWnmi9"
      },
      "outputs": [],
      "source": [
        "import zipfile\n",
        "\n",
        "# Unzip the dataset\n",
        "local_zip = '/content/drive/MyDrive/dzo.zip'\n",
        "zip_ref = zipfile.ZipFile(local_zip, 'r')\n",
        "zip_ref.extractall('./dataset')\n",
        "zip_ref.close()"
      ]
    },
    {
      "cell_type": "code",
      "execution_count": null,
      "metadata": {
        "id": "v2RDGv0Snmln"
      },
      "outputs": [],
      "source": [
        "train_dir = '/content/dataset/dzo/train'\n",
        "validation_dir = '/content/dataset/dzo/val'\n",
        "test_dir = '/content/dataset/dzo/test' "
      ]
    },
    {
      "cell_type": "markdown",
      "source": [
        "Unzips the dataset file named \"dzo.zip\" from the Google drive and saves it in the \"dataset\" folder"
      ],
      "metadata": {
        "id": "c527OGRHR2kd"
      }
    },
    {
      "cell_type": "markdown",
      "metadata": {
        "id": "N7qNXu88-Cb8"
      },
      "source": [
        "**Preprocessing - Image Data Generator**"
      ]
    },
    {
      "cell_type": "code",
      "execution_count": null,
      "metadata": {
        "colab": {
          "base_uri": "https://localhost:8080/"
        },
        "id": "3XK7z8lQnmnR",
        "outputId": "4925cb64-c534-4f1e-d7af-2662b6ca3563"
      },
      "outputs": [
        {
          "output_type": "stream",
          "name": "stdout",
          "text": [
            "Found 10500 images belonging to 30 classes.\n",
            "Found 3000 images belonging to 30 classes.\n",
            "Found 1500 images belonging to 30 classes.\n"
          ]
        }
      ],
      "source": [
        "from keras.preprocessing.image import ImageDataGenerator\n",
        "\n",
        "#generating batches of tensor image data\n",
        "train_datagen = ImageDataGenerator(rescale=1./255,\n",
        "                                  rotation_range=15,\n",
        "                                  shear_range=0.2,\n",
        "                                  zoom_range=0.2,\n",
        "                                  horizontal_flip=True,\n",
        "                                  fill_mode='nearest')\n",
        "\n",
        "val_datagen = ImageDataGenerator(rescale=1./255)\n",
        "test_datagen = ImageDataGenerator(rescale=1./255)\n",
        "\n",
        "train_generator = train_datagen.flow_from_directory(\n",
        "        train_dir,\n",
        "        target_size=(224, 224),\n",
        "        batch_size=32,\n",
        "        shuffle=True,\n",
        "        class_mode='categorical')\n",
        "\n",
        "validation_generator = val_datagen.flow_from_directory(\n",
        "        validation_dir,\n",
        "        target_size=(224, 224),\n",
        "        batch_size=32,\n",
        "        shuffle=True,\n",
        "        class_mode='categorical')\n",
        "\n",
        "test_generator = test_datagen.flow_from_directory(\n",
        "        test_dir,\n",
        "        target_size=(224, 224),\n",
        "        batch_size=32,\n",
        "        shuffle=False,\n",
        "        class_mode='categorical')"
      ]
    },
    {
      "cell_type": "markdown",
      "source": [
        "Generates batches of tensor image data by applying various image augmentation techniques such as rotation, shearing, zooming, horizontal flipping, and fill mode. It also rescales the pixel values of images to the range of 0-1. These batches are then passed on to the training, validation, and test generators respectively. The flow_from_directory function loads images from the directory specified and assigns labels based on the subdirectories' names."
      ],
      "metadata": {
        "id": "m9E7hYHmSDMH"
      }
    },
    {
      "cell_type": "markdown",
      "source": [
        "Check the length of the train generator, validation generator and test generator"
      ],
      "metadata": {
        "id": "SyfpFLNDOvIX"
      }
    },
    {
      "cell_type": "code",
      "execution_count": null,
      "metadata": {
        "colab": {
          "base_uri": "https://localhost:8080/"
        },
        "id": "hiJjW0lxrLl7",
        "outputId": "4b768aba-a5a0-4006-caed-4164acac637c"
      },
      "outputs": [
        {
          "output_type": "execute_result",
          "data": {
            "text/plain": [
              "(329, 94, 47)"
            ]
          },
          "metadata": {},
          "execution_count": 6
        }
      ],
      "source": [
        "len(train_generator), len(validation_generator), len(test_generator)"
      ]
    },
    {
      "cell_type": "markdown",
      "source": [],
      "metadata": {
        "id": "L5CdNHW_O5kq"
      }
    },
    {
      "cell_type": "code",
      "execution_count": null,
      "metadata": {
        "colab": {
          "base_uri": "https://localhost:8080/"
        },
        "id": "obqoTZhpKnY3",
        "outputId": "a2080ab4-951f-48de-b228-0833b189cbb5"
      },
      "outputs": [
        {
          "output_type": "stream",
          "name": "stdout",
          "text": [
            "{'ahh': 0, 'ba': 1, 'cha': 2, 'chaa': 3, 'dha': 4, 'dza': 5, 'ga': 6, 'ha': 7, 'ja': 8, 'ka': 9, 'kha': 10, 'la': 11, 'ma': 12, 'na': 13, 'nga': 14, 'nya': 15, 'pa': 16, 'pha': 17, 'ra': 18, 'sa': 19, 'sha': 20, 'ta': 21, 'tha': 22, 'tsa': 23, 'tsaaa': 24, 'uaa': 25, 'wa': 26, 'ya': 27, 'za': 28, 'zha': 29}\n"
          ]
        }
      ],
      "source": [
        "print(train_generator.class_indices)"
      ]
    },
    {
      "cell_type": "markdown",
      "source": [
        "**Class Weights Calculation**"
      ],
      "metadata": {
        "id": "lps2VvCBSKmb"
      }
    },
    {
      "cell_type": "code",
      "execution_count": null,
      "metadata": {
        "colab": {
          "base_uri": "https://localhost:8080/",
          "height": 408
        },
        "id": "0ZFAT6cTorWD",
        "outputId": "915f377c-64a0-4d25-fca2-c0330fb5faff"
      },
      "outputs": [
        {
          "output_type": "display_data",
          "data": {
            "text/plain": [
              "<Figure size 864x432 with 1 Axes>"
            ],
            "image/png": "[encoded data removed]"
          },
          "metadata": {
            "needs_background": "light"
          }
        }
      ],
      "source": [
        "from sklearn.utils.class_weight import compute_class_weight\n",
        "from collections import OrderedDict\n",
        "\n",
        "cls_train = train_generator.classes\n",
        "classes = list(train_generator.class_indices.keys())\n",
        "\n",
        "num_values = []\n",
        "unique, counts = np.unique(cls_train, return_counts=True)\n",
        "valdict=OrderedDict(zip(unique, counts))\n",
        "\n",
        "for i in range(30):\n",
        "    num_values.append(valdict[i])\n",
        "plt.figure(figsize=(12, 6))\n",
        "x = np.arange(len(num_values))\n",
        "xlabel = classes\n",
        "plt.bar(x, num_values)\n",
        "plt.xticks(x, xlabel)\n",
        "\n",
        "plt.xlabel('Classes/Vocab', weight='bold').set_fontsize('12')\n",
        "plt.ylabel('Number of Image', weight='bold').set_fontsize('12')\n",
        "plt.title('Training set images w.r.t Classes', weight='bold').set_fontsize('14')\n",
        "plt.savefig(\"train\", facecolor='w', bbox_inches=\"tight\", pad_inches=0.1)\n",
        "plt.show() "
      ]
    },
    {
      "cell_type": "code",
      "execution_count": null,
      "metadata": {
        "colab": {
          "base_uri": "https://localhost:8080/",
          "height": 408
        },
        "id": "P4S2KqKvpSPa",
        "outputId": "aec48a5b-6815-46ed-bf17-226896bb4864"
      },
      "outputs": [
        {
          "output_type": "display_data",
          "data": {
            "text/plain": [
              "<Figure size 864x432 with 1 Axes>"
            ],
            "image/png": "[encoded data removed]"
          },
          "metadata": {
            "needs_background": "light"
          }
        }
      ],
      "source": [
        "cls_test = validation_generator.classes\n",
        "classes = list(validation_generator.class_indices.keys())\n",
        "\n",
        "num_values = []\n",
        "unique, counts = np.unique(cls_test, return_counts=True)\n",
        "valdict=OrderedDict(zip(unique, counts))\n",
        "\n",
        "for i in range(30):\n",
        "    num_values.append(valdict[i])\n",
        "plt.figure(figsize=(12,6))\n",
        "x = np.arange(len(num_values))\n",
        "xlabel = classes\n",
        "plt.bar(x, num_values)\n",
        "plt.xticks(x, xlabel)\n",
        "\n",
        "plt.xlabel('Classes/Vocab', weight='bold').set_fontsize('12')\n",
        "plt.ylabel('Number of Image', weight='bold').set_fontsize('12')\n",
        "plt.title('Validation set images w.r.t Classes', weight='bold').set_fontsize('14')\n",
        "plt.savefig(\"validation\", facecolor='w', bbox_inches=\"tight\", pad_inches=0.1)\n",
        "plt.show() "
      ]
    },
    {
      "cell_type": "code",
      "execution_count": null,
      "metadata": {
        "colab": {
          "base_uri": "https://localhost:8080/",
          "height": 408
        },
        "id": "c0AamqaSorZi",
        "outputId": "49f4a555-55d2-4d59-e16e-1deebe4f0795"
      },
      "outputs": [
        {
          "output_type": "display_data",
          "data": {
            "text/plain": [
              "<Figure size 864x432 with 1 Axes>"
            ],
            "image/png": "[encoded data removed]"
          },
          "metadata": {
            "needs_background": "light"
          }
        }
      ],
      "source": [
        "cls_test = test_generator.classes\n",
        "classes = list(test_generator.class_indices.keys())\n",
        "\n",
        "num_values = []\n",
        "unique, counts = np.unique(cls_test, return_counts=True)\n",
        "valdict=OrderedDict(zip(unique, counts))\n",
        "\n",
        "for i in range(30):\n",
        "    num_values.append(valdict[i])\n",
        "plt.figure(figsize=(12, 6))\n",
        "x = np.arange(len(num_values))\n",
        "xlabel = classes\n",
        "plt.bar(x, num_values)\n",
        "plt.xticks(x, xlabel)\n",
        "\n",
        "plt.xlabel('Classes/Vocab', weight='bold').set_fontsize('12')\n",
        "plt.ylabel('Number of Image', weight='bold').set_fontsize('12')\n",
        "plt.title('Testing set images w.r.t Classes', weight='bold').set_fontsize('14')\n",
        "plt.savefig(\"test\", facecolor='w', bbox_inches=\"tight\", pad_inches=0.1)\n",
        "plt.show() "
      ]
    },
    {
      "cell_type": "markdown",
      "source": [
        "It calculates the class weights to deal with the class imbalance problem in the dataset. It first extracts the class labels from the training and validation generators, then calculates the number of images in each class and plots them using the Matplotlib library. This helps us visualize the class imbalance problem and decide the class weights accordingly."
      ],
      "metadata": {
        "id": "qydE_vxwSQaD"
      }
    },
    {
      "cell_type": "markdown",
      "metadata": {
        "id": "qcF0jCPj-Ija"
      },
      "source": [
        "# **2. Model Architecture - CNN Model**"
      ]
    },
    {
      "cell_type": "code",
      "execution_count": null,
      "metadata": {
        "colab": {
          "base_uri": "https://localhost:8080/"
        },
        "id": "1BSC6vswpzWe",
        "outputId": "2d3b0c80-9b7a-424d-8bf4-6283303b14f3"
      },
      "outputs": [
        {
          "output_type": "stream",
          "name": "stdout",
          "text": [
            "Model: \"sequential\"\n",
            "_________________________________________________________________\n",
            " Layer (type)                Output Shape              Param #   \n",
            "=================================================================\n",
            " conv2d (Conv2D)             (None, 224, 224, 64)      1792      \n",
            "                                                                 \n",
            " max_pooling2d (MaxPooling2D  (None, 112, 112, 64)     0         \n",
            " )                                                               \n",
            "                                                                 \n",
            " conv2d_1 (Conv2D)           (None, 112, 112, 64)      36928     \n",
            "                                                                 \n",
            " max_pooling2d_1 (MaxPooling  (None, 56, 56, 64)       0         \n",
            " 2D)                                                             \n",
            "                                                                 \n",
            " conv2d_2 (Conv2D)           (None, 56, 56, 128)       73856     \n",
            "                                                                 \n",
            " max_pooling2d_2 (MaxPooling  (None, 28, 28, 128)      0         \n",
            " 2D)                                                             \n",
            "                                                                 \n",
            " conv2d_3 (Conv2D)           (None, 28, 28, 128)       147584    \n",
            "                                                                 \n",
            " max_pooling2d_3 (MaxPooling  (None, 14, 14, 128)      0         \n",
            " 2D)                                                             \n",
            "                                                                 \n",
            " flatten (Flatten)           (None, 25088)             0         \n",
            "                                                                 \n",
            " dense (Dense)               (None, 512)               12845568  \n",
            "                                                                 \n",
            " dense_1 (Dense)             (None, 30)                15390     \n",
            "                                                                 \n",
            "=================================================================\n",
            "Total params: 13,121,118\n",
            "Trainable params: 13,121,118\n",
            "Non-trainable params: 0\n",
            "_________________________________________________________________\n"
          ]
        }
      ],
      "source": [
        "model = tf.keras.models.Sequential([\n",
        "    tf.keras.layers.Conv2D(64, (3,3), padding='same', activation='relu', input_shape=(224, 224, 3)),\n",
        "    tf.keras.layers.MaxPooling2D(2, 2),\n",
        "    tf.keras.layers.Conv2D(64, (3,3), padding='same', activation='relu'),\n",
        "    tf.keras.layers.MaxPooling2D(2,2),\n",
        "    tf.keras.layers.Conv2D(128, (3,3), padding='same', activation='relu'),\n",
        "    tf.keras.layers.MaxPooling2D(2,2),\n",
        "    tf.keras.layers.Conv2D(128, (3,3), padding='same', activation='relu'),\n",
        "    tf.keras.layers.MaxPooling2D(2,2),\n",
        "\n",
        "    tf.keras.layers.Flatten(),\n",
        "    tf.keras.layers.Dense(512, activation='relu'),\n",
        "    tf.keras.layers.Dense(30, activation='softmax')\n",
        "])\n",
        "\n",
        "model.summary()"
      ]
    },
    {
      "cell_type": "markdown",
      "source": [
        "Compile the model"
      ],
      "metadata": {
        "id": "1LphS9g1SeVu"
      }
    },
    {
      "cell_type": "code",
      "execution_count": null,
      "metadata": {
        "id": "hn5dGH9lq-fh"
      },
      "outputs": [],
      "source": [
        "model.compile(loss=keras.losses.categorical_crossentropy,\n",
        "              optimizer=keras.optimizers.Adam(0.001),\n",
        "              metrics=['accuracy'])"
      ]
    },
    {
      "cell_type": "code",
      "execution_count": null,
      "metadata": {
        "id": "1DSizodCR3mD"
      },
      "outputs": [],
      "source": [
        "#Early stopping to avoid overfitting of model\n",
        "from keras.callbacks import EarlyStopping\n",
        "early_stop = EarlyStopping(monitor='val_loss', mode='min', verbose=1, patience=5)"
      ]
    },
    {
      "cell_type": "markdown",
      "source": [
        "Fit the CNN model using model.fit()"
      ],
      "metadata": {
        "id": "uVhhwc89SiIB"
      }
    },
    {
      "cell_type": "code",
      "execution_count": null,
      "metadata": {
        "colab": {
          "base_uri": "https://localhost:8080/"
        },
        "id": "rGBncDw9rFr8",
        "outputId": "90445838-afc7-4569-f465-c3483b40390f"
      },
      "outputs": [
        {
          "output_type": "stream",
          "name": "stdout",
          "text": [
            "Epoch 1/30\n",
            "329/329 [==============================] - 135s 381ms/step - loss: 2.9577 - accuracy: 0.1330 - val_loss: 2.3841 - val_accuracy: 0.2580\n",
            "Epoch 2/30\n",
            "329/329 [==============================] - 125s 381ms/step - loss: 2.2179 - accuracy: 0.3041 - val_loss: 1.9001 - val_accuracy: 0.3780\n",
            "Epoch 3/30\n",
            "329/329 [==============================] - 124s 377ms/step - loss: 1.6948 - accuracy: 0.4620 - val_loss: 1.2990 - val_accuracy: 0.5917\n",
            "Epoch 4/30\n",
            "329/329 [==============================] - 124s 377ms/step - loss: 1.3187 - accuracy: 0.5734 - val_loss: 1.1248 - val_accuracy: 0.6520\n",
            "Epoch 5/30\n",
            "329/329 [==============================] - 124s 378ms/step - loss: 1.0677 - accuracy: 0.6546 - val_loss: 0.8200 - val_accuracy: 0.7370\n",
            "Epoch 6/30\n",
            "329/329 [==============================] - 124s 377ms/step - loss: 0.8414 - accuracy: 0.7259 - val_loss: 0.6918 - val_accuracy: 0.7903\n",
            "Epoch 7/30\n",
            "329/329 [==============================] - 125s 380ms/step - loss: 0.6997 - accuracy: 0.7736 - val_loss: 0.6447 - val_accuracy: 0.8003\n",
            "Epoch 8/30\n",
            "329/329 [==============================] - 124s 376ms/step - loss: 0.5699 - accuracy: 0.8184 - val_loss: 0.5465 - val_accuracy: 0.8253\n",
            "Epoch 9/30\n",
            "329/329 [==============================] - 122s 372ms/step - loss: 0.5270 - accuracy: 0.8304 - val_loss: 0.4803 - val_accuracy: 0.8507\n",
            "Epoch 10/30\n",
            "329/329 [==============================] - 126s 382ms/step - loss: 0.4435 - accuracy: 0.8564 - val_loss: 0.4134 - val_accuracy: 0.8783\n",
            "Epoch 11/30\n",
            "329/329 [==============================] - 124s 377ms/step - loss: 0.4014 - accuracy: 0.8754 - val_loss: 0.4611 - val_accuracy: 0.8587\n",
            "Epoch 12/30\n",
            "329/329 [==============================] - 124s 377ms/step - loss: 0.3319 - accuracy: 0.8948 - val_loss: 0.3477 - val_accuracy: 0.8977\n",
            "Epoch 13/30\n",
            "329/329 [==============================] - 124s 378ms/step - loss: 0.3357 - accuracy: 0.8913 - val_loss: 0.3913 - val_accuracy: 0.8843\n",
            "Epoch 14/30\n",
            "329/329 [==============================] - 122s 371ms/step - loss: 0.3008 - accuracy: 0.9048 - val_loss: 0.3883 - val_accuracy: 0.8877\n",
            "Epoch 15/30\n",
            "329/329 [==============================] - 123s 373ms/step - loss: 0.2699 - accuracy: 0.9153 - val_loss: 0.3306 - val_accuracy: 0.9057\n",
            "Epoch 16/30\n",
            "329/329 [==============================] - 124s 377ms/step - loss: 0.2530 - accuracy: 0.9170 - val_loss: 0.3263 - val_accuracy: 0.9120\n",
            "Epoch 17/30\n",
            "329/329 [==============================] - 123s 373ms/step - loss: 0.2460 - accuracy: 0.9215 - val_loss: 0.4126 - val_accuracy: 0.8953\n",
            "Epoch 18/30\n",
            "329/329 [==============================] - 124s 376ms/step - loss: 0.2439 - accuracy: 0.9224 - val_loss: 0.3857 - val_accuracy: 0.9007\n",
            "Epoch 19/30\n",
            "329/329 [==============================] - 122s 370ms/step - loss: 0.2136 - accuracy: 0.9310 - val_loss: 0.4178 - val_accuracy: 0.9003\n",
            "Epoch 20/30\n",
            "329/329 [==============================] - 123s 374ms/step - loss: 0.2015 - accuracy: 0.9370 - val_loss: 0.3063 - val_accuracy: 0.9273\n",
            "Epoch 21/30\n",
            "329/329 [==============================] - 122s 372ms/step - loss: 0.1903 - accuracy: 0.9398 - val_loss: 0.3361 - val_accuracy: 0.9040\n",
            "Epoch 22/30\n",
            "329/329 [==============================] - 124s 376ms/step - loss: 0.1873 - accuracy: 0.9393 - val_loss: 0.3205 - val_accuracy: 0.9213\n",
            "Epoch 23/30\n",
            "329/329 [==============================] - 124s 376ms/step - loss: 0.1867 - accuracy: 0.9393 - val_loss: 0.2922 - val_accuracy: 0.9180\n",
            "Epoch 24/30\n",
            "329/329 [==============================] - 122s 370ms/step - loss: 0.1666 - accuracy: 0.9457 - val_loss: 0.2605 - val_accuracy: 0.9303\n",
            "Epoch 25/30\n",
            "329/329 [==============================] - 124s 376ms/step - loss: 0.1704 - accuracy: 0.9477 - val_loss: 0.3098 - val_accuracy: 0.9153\n",
            "Epoch 26/30\n",
            "329/329 [==============================] - 123s 373ms/step - loss: 0.1553 - accuracy: 0.9494 - val_loss: 0.3055 - val_accuracy: 0.9233\n",
            "Epoch 27/30\n",
            "329/329 [==============================] - 123s 375ms/step - loss: 0.1535 - accuracy: 0.9502 - val_loss: 0.2812 - val_accuracy: 0.9303\n",
            "Epoch 28/30\n",
            "329/329 [==============================] - 124s 377ms/step - loss: 0.1377 - accuracy: 0.9574 - val_loss: 0.3557 - val_accuracy: 0.9107\n",
            "Epoch 29/30\n",
            "329/329 [==============================] - 121s 369ms/step - loss: 0.1433 - accuracy: 0.9520 - val_loss: 0.2187 - val_accuracy: 0.9453\n",
            "Epoch 30/30\n",
            "329/329 [==============================] - 122s 372ms/step - loss: 0.1399 - accuracy: 0.9567 - val_loss: 0.2347 - val_accuracy: 0.9403\n"
          ]
        }
      ],
      "source": [
        "history = model.fit(\n",
        "      train_generator,\n",
        "      validation_data=validation_generator,\n",
        "      epochs=30,\n",
        "      steps_per_epoch=len(train_generator), # total images = batch_size * steps\n",
        "      validation_steps=len(validation_generator), # total images = batch_size * steps\n",
        "      callbacks = [early_stop],\n",
        "      verbose=1)"
      ]
    },
    {
      "cell_type": "markdown",
      "source": [
        "Check the accuracy and loss of CNN model"
      ],
      "metadata": {
        "id": "H7H94nmjSniK"
      }
    },
    {
      "cell_type": "code",
      "source": [
        "loss, accuracy = model.evaluate(train_generator, verbose=1)"
      ],
      "metadata": {
        "colab": {
          "base_uri": "https://localhost:8080/"
        },
        "id": "sH7NE99a2BOA",
        "outputId": "67497020-cdd2-4970-ffc0-ec1215e352d3"
      },
      "execution_count": null,
      "outputs": [
        {
          "output_type": "stream",
          "name": "stdout",
          "text": [
            "329/329 [==============================] - 118s 358ms/step - loss: 0.1113 - accuracy: 0.9652\n"
          ]
        }
      ]
    },
    {
      "cell_type": "code",
      "execution_count": null,
      "metadata": {
        "id": "UwzMSgKupzYg",
        "colab": {
          "base_uri": "https://localhost:8080/"
        },
        "outputId": "e8ea73ea-2aeb-4c57-839e-bb7280efe458"
      },
      "outputs": [
        {
          "output_type": "stream",
          "name": "stdout",
          "text": [
            "94/94 [==============================] - 6s 63ms/step - loss: 0.2347 - accuracy: 0.9403\n"
          ]
        }
      ],
      "source": [
        "val_loss, val_accuracy = model.evaluate(validation_generator, verbose=1)"
      ]
    },
    {
      "cell_type": "code",
      "source": [
        "test_score = model.evaluate(test_generator, verbose=1)\n",
        "\n",
        "print(\"Accuracy: {:.2f} %\".format(test_score[1]*100)) \n",
        "print(\"Loss: \", test_score[0])"
      ],
      "metadata": {
        "colab": {
          "base_uri": "https://localhost:8080/"
        },
        "id": "haR9vjH7PzaK",
        "outputId": "244a5fc6-5310-47e0-a5f5-e606b25be106"
      },
      "execution_count": null,
      "outputs": [
        {
          "output_type": "stream",
          "name": "stdout",
          "text": [
            "47/47 [==============================] - 3s 73ms/step - loss: 0.3335 - accuracy: 0.9173\n",
            "Accuracy: 91.73 %\n",
            "Loss:  0.33348700404167175\n"
          ]
        }
      ]
    },
    {
      "cell_type": "markdown",
      "source": [
        "Plot the accuracy and loss of CNN model"
      ],
      "metadata": {
        "id": "ap9EyC2ZSti1"
      }
    },
    {
      "cell_type": "code",
      "execution_count": null,
      "metadata": {
        "colab": {
          "base_uri": "https://localhost:8080/",
          "height": 265
        },
        "id": "9DEl6Mjvtxin",
        "outputId": "406866f3-58f3-42b3-eb2c-e72e99293e7c"
      },
      "outputs": [
        {
          "output_type": "display_data",
          "data": {
            "text/plain": [
              "<Figure size 720x288 with 2 Axes>"
            ],
            "image/png": "[encoded data removed]"
          },
          "metadata": {
            "needs_background": "light"
          }
        }
      ],
      "source": [
        "fig, ax = plt.subplots(1, 2, figsize=(10, 4))\n",
        "\n",
        "history_df = pd.DataFrame(history.history)\n",
        "history_df[['loss', 'val_loss']].plot(kind='line', ax=ax[0])\n",
        "history_df[['accuracy', 'val_accuracy']].plot(kind='line', ax=ax[1])\n",
        "plt.savefig(\"cnn_performance\", facecolor='w', bbox_inches=\"tight\", pad_inches=0.1)\n",
        "plt.show()"
      ]
    },
    {
      "cell_type": "markdown",
      "source": [
        "Save the CNN model in .h5 for future use"
      ],
      "metadata": {
        "id": "GF0jpvygS5CK"
      }
    },
    {
      "cell_type": "code",
      "source": [
        "model.save('cnn.h5')"
      ],
      "metadata": {
        "id": "yGmyC2EhrF5A"
      },
      "execution_count": null,
      "outputs": []
    },
    {
      "cell_type": "code",
      "execution_count": null,
      "metadata": {
        "colab": {
          "base_uri": "https://localhost:8080/"
        },
        "id": "AoVtNLIbLG8H",
        "outputId": "d3d9d595-2040-48ee-ab17-493fdab2763b"
      },
      "outputs": [
        {
          "output_type": "stream",
          "name": "stdout",
          "text": [
            "Dictionary :  {'ahh': 0, 'ba': 1, 'cha': 2, 'chaa': 3, 'dha': 4, 'dza': 5, 'ga': 6, 'ha': 7, 'ja': 8, 'ka': 9, 'kha': 10, 'la': 11, 'ma': 12, 'na': 13, 'nga': 14, 'nya': 15, 'pa': 16, 'pha': 17, 'ra': 18, 'sa': 19, 'sha': 20, 'ta': 21, 'tha': 22, 'tsa': 23, 'tsaaa': 24, 'uaa': 25, 'wa': 26, 'ya': 27, 'za': 28, 'zha': 29}\n",
            "List of class name :  ['ahh', 'ba', 'cha', 'chaa', 'dha', 'dza', 'ga', 'ha', 'ja', 'ka', 'kha', 'la', 'ma', 'na', 'nga', 'nya', 'pa', 'pha', 'ra', 'sa', 'sha', 'ta', 'tha', 'tsa', 'tsaaa', 'uaa', 'wa', 'ya', 'za', 'zha']\n"
          ]
        }
      ],
      "source": [
        "classes_name = test_generator.class_indices\n",
        "print('Dictionary : ', classes_name)\n",
        "classes_name = list(classes_name.keys())\n",
        "print('List of class name : ', classes_name)"
      ]
    },
    {
      "cell_type": "markdown",
      "source": [
        "Build the Confusion matrix of the CCN model"
      ],
      "metadata": {
        "id": "zGpoytB1S_nG"
      }
    },
    {
      "cell_type": "code",
      "execution_count": null,
      "metadata": {
        "id": "Y5BuB_oSsdhv"
      },
      "outputs": [],
      "source": [
        "def plot_confusion_matrix(cm, classes, title='Confusion matrix', cmap=plt.cm.Blues):\n",
        "  plt.figure(figsize=(12,12))\n",
        "  plt.imshow(cm, interpolation='nearest', cmap=cmap)\n",
        "  plt.title(title)\n",
        "  plt.colorbar()\n",
        "\n",
        "  tick_marks = np.arange(len(classes))\n",
        "  plt.xticks(tick_marks, classes, rotation=45)\n",
        "  plt.yticks(tick_marks, classes)\n",
        "\n",
        "  thresh = cm.max() / 2.\n",
        "  for i, j in itertools.product(range(cm.shape[0]), range(cm.shape[1])):\n",
        "    plt.text(j, i, cm[i, j], horizontalalignment=\"center\", color=\"white\" if cm[i, j] > thresh else \"black\")\n",
        "  plt.tight_layout()\n",
        "  plt.ylabel('True label', weight='bold').set_fontsize('12')\n",
        "  plt.xlabel('Predicted label', weight='bold').set_fontsize('12')"
      ]
    },
    {
      "cell_type": "code",
      "execution_count": null,
      "metadata": {
        "colab": {
          "base_uri": "https://localhost:8080/"
        },
        "id": "wDpb25sHudVC",
        "outputId": "a65df5e9-218e-43b9-e88b-475b9637e075"
      },
      "outputs": [
        {
          "output_type": "stream",
          "name": "stdout",
          "text": [
            "['ahh', 'ba', 'cha', 'chaa', 'dha', 'dza', 'ga', 'ha', 'ja', 'ka', 'kha', 'la', 'ma', 'na', 'nga', 'nya', 'pa', 'pha', 'ra', 'sa', 'sha', 'ta', 'tha', 'tsa', 'tsaaa', 'uaa', 'wa', 'ya', 'za', 'zha']\n"
          ]
        }
      ],
      "source": [
        "#Print the Target names\n",
        "from sklearn.metrics import classification_report, confusion_matrix\n",
        "import itertools\n",
        "\n",
        "target_names = []\n",
        "for key in train_generator.class_indices:\n",
        "    target_names.append(key)\n",
        "\n",
        "print(target_names)"
      ]
    },
    {
      "cell_type": "markdown",
      "source": [
        "The performance (precision, recall, and F1 score) of the CNN model"
      ],
      "metadata": {
        "id": "13ns8cHyTGfO"
      }
    },
    {
      "cell_type": "code",
      "execution_count": null,
      "metadata": {
        "colab": {
          "base_uri": "https://localhost:8080/"
        },
        "id": "_4BxQb9Msdjm",
        "outputId": "ddf4e584-a6e0-4f80-e961-3953b27074d5"
      },
      "outputs": [
        {
          "output_type": "stream",
          "name": "stdout",
          "text": [
            "47/47 [==============================] - 3s 62ms/step\n",
            "\n",
            "****************** Performance of Model **************\n",
            "\n",
            "              precision    recall  f1-score   support\n",
            "\n",
            "         ahh       0.93      0.84      0.88        50\n",
            "          ba       0.98      0.84      0.90        50\n",
            "         cha       0.74      0.86      0.80        50\n",
            "        chaa       0.67      0.84      0.74        50\n",
            "         dha       0.98      0.90      0.94        50\n",
            "         dza       0.94      0.94      0.94        50\n",
            "          ga       0.96      0.92      0.94        50\n",
            "          ha       0.94      0.92      0.93        50\n",
            "          ja       0.96      1.00      0.98        50\n",
            "          ka       0.98      1.00      0.99        50\n",
            "         kha       0.94      0.88      0.91        50\n",
            "          la       0.96      0.96      0.96        50\n",
            "          ma       1.00      0.94      0.97        50\n",
            "          na       0.90      0.92      0.91        50\n",
            "         nga       1.00      0.92      0.96        50\n",
            "         nya       0.96      0.86      0.91        50\n",
            "          pa       0.98      0.84      0.90        50\n",
            "         pha       0.87      0.90      0.88        50\n",
            "          ra       0.92      0.92      0.92        50\n",
            "          sa       0.89      0.98      0.93        50\n",
            "         sha       0.96      0.96      0.96        50\n",
            "          ta       0.87      0.90      0.88        50\n",
            "         tha       0.98      1.00      0.99        50\n",
            "         tsa       0.88      0.98      0.92        50\n",
            "       tsaaa       0.92      0.90      0.91        50\n",
            "         uaa       0.96      0.94      0.95        50\n",
            "          wa       0.84      0.98      0.91        50\n",
            "          ya       1.00      0.88      0.94        50\n",
            "          za       0.87      0.92      0.89        50\n",
            "         zha       0.94      0.88      0.91        50\n",
            "\n",
            "    accuracy                           0.92      1500\n",
            "   macro avg       0.92      0.92      0.92      1500\n",
            "weighted avg       0.92      0.92      0.92      1500\n",
            "\n"
          ]
        }
      ],
      "source": [
        "Y_pred = model.predict(test_generator)\n",
        "y_pred = np.argmax(Y_pred, axis=1)\n",
        "\n",
        "print('\\n****************** Performance of Model **************\\n')\n",
        "print(classification_report(test_generator.classes, y_pred, target_names=target_names))"
      ]
    },
    {
      "cell_type": "markdown",
      "source": [
        "Confusion matrix"
      ],
      "metadata": {
        "id": "TMmeEABRTSUa"
      }
    },
    {
      "cell_type": "code",
      "execution_count": null,
      "metadata": {
        "colab": {
          "base_uri": "https://localhost:8080/",
          "height": 873
        },
        "id": "wb-9RtHs3Afu",
        "outputId": "b82c874e-b435-4964-cb1b-8b00b14acf44"
      },
      "outputs": [
        {
          "output_type": "display_data",
          "data": {
            "text/plain": [
              "<Figure size 864x864 with 2 Axes>"
            ],
            "image/png": "[encoded data removed]"
          },
          "metadata": {
            "needs_background": "light"
          }
        }
      ],
      "source": [
        "cm = confusion_matrix(test_generator.classes, y_pred)\n",
        "plot_confusion_matrix(cm, target_names)\n",
        "plt.title('Confusion Matrix', weight='bold').set_fontsize('14')\n",
        "plt.savefig(\"cm\", facecolor='w', bbox_inches=\"tight\", pad_inches=0.1)\n",
        "plt.show()"
      ]
    },
    {
      "cell_type": "markdown",
      "source": [
        "Check the how far the model classify the image correctly"
      ],
      "metadata": {
        "id": "-0EVIMI_TWoW"
      }
    },
    {
      "cell_type": "code",
      "execution_count": null,
      "metadata": {
        "colab": {
          "base_uri": "https://localhost:8080/",
          "height": 230
        },
        "id": "dPi1stvLsdm7",
        "outputId": "bac720d5-2408-467c-aab5-944daaf1e11c"
      },
      "outputs": [
        {
          "output_type": "display_data",
          "data": {
            "text/plain": [
              "<IPython.core.display.HTML object>"
            ],
            "text/html": [
              "\n",
              "     <input type=\"file\" id=\"files-4ceeaa83-783e-4530-96df-a60593479c7a\" name=\"files[]\" multiple disabled\n",
              "        style=\"border:none\" />\n",
              "     <output id=\"result-4ceeaa83-783e-4530-96df-a60593479c7a\">\n",
              "      Upload widget is only available when the cell has been executed in the\n",
              "      current browser session. Please rerun this cell to enable.\n",
              "      </output>\n",
              "      <script>// Copyright 2017 Google LLC\n",
              "//\n",
              "// Licensed under the Apache License, Version 2.0 (the \"License\");\n",
              "// you may not use this file except in compliance with the License.\n",
              "// You may obtain a copy of the License at\n",
              "//\n",
              "//      http://www.apache.org/licenses/LICENSE-2.0\n",
              "//\n",
              "// Unless required by applicable law or agreed to in writing, software\n",
              "// distributed under the License is distributed on an \"AS IS\" BASIS,\n",
              "// WITHOUT WARRANTIES OR CONDITIONS OF ANY KIND, either express or implied.\n",
              "// See the License for the specific language governing permissions and\n",
              "// limitations under the License.\n",
              "\n",
              "/**\n",
              " * @fileoverview Helpers for google.colab Python module.\n",
              " */\n",
              "(function(scope) {\n",
              "function span(text, styleAttributes = {}) {\n",
              "  const element = document.createElement('span');\n",
              "  element.textContent = text;\n",
              "  for (const key of Object.keys(styleAttributes)) {\n",
              "    element.style[key] = styleAttributes[key];\n",
              "  }\n",
              "  return element;\n",
              "}\n",
              "\n",
              "// Max number of bytes which will be uploaded at a time.\n",
              "const MAX_PAYLOAD_SIZE = 100 * 1024;\n",
              "\n",
              "function _uploadFiles(inputId, outputId) {\n",
              "  const steps = uploadFilesStep(inputId, outputId);\n",
              "  const outputElement = document.getElementById(outputId);\n",
              "  // Cache steps on the outputElement to make it available for the next call\n",
              "  // to uploadFilesContinue from Python.\n",
              "  outputElement.steps = steps;\n",
              "\n",
              "  return _uploadFilesContinue(outputId);\n",
              "}\n",
              "\n",
              "// This is roughly an async generator (not supported in the browser yet),\n",
              "// where there are multiple asynchronous steps and the Python side is going\n",
              "// to poll for completion of each step.\n",
              "// This uses a Promise to block the python side on completion of each step,\n",
              "// then passes the result of the previous step as the input to the next step.\n",
              "function _uploadFilesContinue(outputId) {\n",
              "  const outputElement = document.getElementById(outputId);\n",
              "  const steps = outputElement.steps;\n",
              "\n",
              "  const next = steps.next(outputElement.lastPromiseValue);\n",
              "  return Promise.resolve(next.value.promise).then((value) => {\n",
              "    // Cache the last promise value to make it available to the next\n",
              "    // step of the generator.\n",
              "    outputElement.lastPromiseValue = value;\n",
              "    return next.value.response;\n",
              "  });\n",
              "}\n",
              "\n",
              "/**\n",
              " * Generator function which is called between each async step of the upload\n",
              " * process.\n",
              " * @param {string} inputId Element ID of the input file picker element.\n",
              " * @param {string} outputId Element ID of the output display.\n",
              " * @return {!Iterable<!Object>} Iterable of next steps.\n",
              " */\n",
              "function* uploadFilesStep(inputId, outputId) {\n",
              "  const inputElement = document.getElementById(inputId);\n",
              "  inputElement.disabled = false;\n",
              "\n",
              "  const outputElement = document.getElementById(outputId);\n",
              "  outputElement.innerHTML = '';\n",
              "\n",
              "  const pickedPromise = new Promise((resolve) => {\n",
              "    inputElement.addEventListener('change', (e) => {\n",
              "      resolve(e.target.files);\n",
              "    });\n",
              "  });\n",
              "\n",
              "  const cancel = document.createElement('button');\n",
              "  inputElement.parentElement.appendChild(cancel);\n",
              "  cancel.textContent = 'Cancel upload';\n",
              "  const cancelPromise = new Promise((resolve) => {\n",
              "    cancel.onclick = () => {\n",
              "      resolve(null);\n",
              "    };\n",
              "  });\n",
              "\n",
              "  // Wait for the user to pick the files.\n",
              "  const files = yield {\n",
              "    promise: Promise.race([pickedPromise, cancelPromise]),\n",
              "    response: {\n",
              "      action: 'starting',\n",
              "    }\n",
              "  };\n",
              "\n",
              "  cancel.remove();\n",
              "\n",
              "  // Disable the input element since further picks are not allowed.\n",
              "  inputElement.disabled = true;\n",
              "\n",
              "  if (!files) {\n",
              "    return {\n",
              "      response: {\n",
              "        action: 'complete',\n",
              "      }\n",
              "    };\n",
              "  }\n",
              "\n",
              "  for (const file of files) {\n",
              "    const li = document.createElement('li');\n",
              "    li.append(span(file.name, {fontWeight: 'bold'}));\n",
              "    li.append(span(\n",
              "        `(${file.type || 'n/a'}) - ${file.size} bytes, ` +\n",
              "        `last modified: ${\n",
              "            file.lastModifiedDate ? file.lastModifiedDate.toLocaleDateString() :\n",
              "                                    'n/a'} - `));\n",
              "    const percent = span('0% done');\n",
              "    li.appendChild(percent);\n",
              "\n",
              "    outputElement.appendChild(li);\n",
              "\n",
              "    const fileDataPromise = new Promise((resolve) => {\n",
              "      const reader = new FileReader();\n",
              "      reader.onload = (e) => {\n",
              "        resolve(e.target.result);\n",
              "      };\n",
              "      reader.readAsArrayBuffer(file);\n",
              "    });\n",
              "    // Wait for the data to be ready.\n",
              "    let fileData = yield {\n",
              "      promise: fileDataPromise,\n",
              "      response: {\n",
              "        action: 'continue',\n",
              "      }\n",
              "    };\n",
              "\n",
              "    // Use a chunked sending to avoid message size limits. See b/62115660.\n",
              "    let position = 0;\n",
              "    do {\n",
              "      const length = Math.min(fileData.byteLength - position, MAX_PAYLOAD_SIZE);\n",
              "      const chunk = new Uint8Array(fileData, position, length);\n",
              "      position += length;\n",
              "\n",
              "      const base64 = btoa(String.fromCharCode.apply(null, chunk));\n",
              "      yield {\n",
              "        response: {\n",
              "          action: 'append',\n",
              "          file: file.name,\n",
              "          data: base64,\n",
              "        },\n",
              "      };\n",
              "\n",
              "      let percentDone = fileData.byteLength === 0 ?\n",
              "          100 :\n",
              "          Math.round((position / fileData.byteLength) * 100);\n",
              "      percent.textContent = `${percentDone}% done`;\n",
              "\n",
              "    } while (position < fileData.byteLength);\n",
              "  }\n",
              "\n",
              "  // All done.\n",
              "  yield {\n",
              "    response: {\n",
              "      action: 'complete',\n",
              "    }\n",
              "  };\n",
              "}\n",
              "\n",
              "scope.google = scope.google || {};\n",
              "scope.google.colab = scope.google.colab || {};\n",
              "scope.google.colab._files = {\n",
              "  _uploadFiles,\n",
              "  _uploadFilesContinue,\n",
              "};\n",
              "})(self);\n",
              "</script> "
            ]
          },
          "metadata": {}
        },
        {
          "output_type": "stream",
          "name": "stdout",
          "text": [
            "Saving 19.jpg to 19.jpg\n",
            "1/1 [==============================] - 0s 220ms/step\n",
            "\n",
            "\n",
            "[8.0600665e-05 2.9978028e-05 5.2338783e-03 1.0195761e-03 2.1294115e-06\n",
            " 4.5986958e-03 1.7150958e-05 2.2717325e-01 3.8270766e-05 4.3913987e-02\n",
            " 4.9337864e-02 6.3802415e-01 1.2771971e-09 1.0746310e-04 4.5788128e-04\n",
            " 1.0473847e-02 2.1957706e-04 1.3125786e-07 4.3246420e-03 1.0740987e-02\n",
            " 4.1796891e-05 4.2345820e-04 9.2656919e-05 3.8053858e-07 3.7694592e-06\n",
            " 1.6014848e-03 3.3567668e-04 2.7575479e-06 4.8246526e-04 1.2214581e-03]\n"
          ]
        }
      ],
      "source": [
        "import numpy as np\n",
        "from google.colab import files\n",
        "from keras.utils import load_img, img_to_array\n",
        "\n",
        "uploaded = files.upload()\n",
        "\n",
        "for fn in uploaded.keys():\n",
        " \n",
        "  # predicting images\n",
        "  path = '/content/' + fn\n",
        "  img = load_img(path, target_size=(224, 224))\n",
        "  x = img_to_array(img)\n",
        "  x /= 255\n",
        "  x = np.expand_dims(x, axis=0)\n",
        "\n",
        "  images = np.vstack([x])\n",
        "  prediction = model.predict(images, batch_size=1)\n",
        "  print('\\n')\n",
        "  print(prediction[0])"
      ]
    },
    {
      "cell_type": "code",
      "execution_count": null,
      "metadata": {
        "colab": {
          "base_uri": "https://localhost:8080/"
        },
        "id": "USfDMY3BIzGN",
        "outputId": "894d62ff-6afc-45de-df97-28b658e4dabe"
      },
      "outputs": [
        {
          "output_type": "stream",
          "name": "stdout",
          "text": [
            "The predicted class is [11] i.e la\n"
          ]
        }
      ],
      "source": [
        "classes = np.argmax(prediction, axis = 1)\n",
        "classes_list = classes_name[np.argmax(prediction)]\n",
        "print('The predicted class is {} i.e {}'.format(classes, classes_list))"
      ]
    },
    {
      "cell_type": "markdown",
      "metadata": {
        "id": "i0rRD9NdW2SD"
      },
      "source": [
        "# **2. Model Architecture - VGG16**"
      ]
    },
    {
      "cell_type": "markdown",
      "source": [
        "Import libraries in VGG16"
      ],
      "metadata": {
        "id": "wOij16qITk7E"
      }
    },
    {
      "cell_type": "code",
      "execution_count": null,
      "metadata": {
        "id": "ktq1_zpoW1Du"
      },
      "outputs": [],
      "source": [
        "from keras.applications.vgg16 import VGG16\n",
        "from keras.models import Sequential\n",
        "from keras.layers import Flatten, Conv2D, MaxPool2D, Activation, Dense, Dropout\n",
        "from keras.optimizers import Adam\n",
        "from keras.models import Model"
      ]
    },
    {
      "cell_type": "markdown",
      "source": [
        "Load pretrained model, VGG16"
      ],
      "metadata": {
        "id": "Gc1hETV34nRz"
      }
    },
    {
      "cell_type": "code",
      "execution_count": null,
      "metadata": {
        "id": "DgvMkD2dW1Gs",
        "colab": {
          "base_uri": "https://localhost:8080/"
        },
        "outputId": "92749547-db1e-4732-ffdb-fe6640da0637"
      },
      "outputs": [
        {
          "output_type": "stream",
          "name": "stdout",
          "text": [
            "Downloading data from https://storage.googleapis.com/tensorflow/keras-applications/vgg16/vgg16_weights_tf_dim_ordering_tf_kernels_notop.h5\n",
            "58889256/58889256 [==============================] - 0s 0us/step\n"
          ]
        }
      ],
      "source": [
        "conv_base = tf.keras.applications.VGG16(include_top=False,\n",
        "                                        weights='imagenet', \n",
        "                                        input_shape=(224,224,3))"
      ]
    },
    {
      "cell_type": "code",
      "execution_count": null,
      "metadata": {
        "colab": {
          "base_uri": "https://localhost:8080/"
        },
        "id": "MRwmQYOqW1I9",
        "outputId": "6d903116-0458-4ccb-cea9-de85730563dc"
      },
      "outputs": [
        {
          "output_type": "stream",
          "name": "stdout",
          "text": [
            "Model: \"vgg16\"\n",
            "_________________________________________________________________\n",
            " Layer (type)                Output Shape              Param #   \n",
            "=================================================================\n",
            " input_1 (InputLayer)        [(None, 224, 224, 3)]     0         \n",
            "                                                                 \n",
            " block1_conv1 (Conv2D)       (None, 224, 224, 64)      1792      \n",
            "                                                                 \n",
            " block1_conv2 (Conv2D)       (None, 224, 224, 64)      36928     \n",
            "                                                                 \n",
            " block1_pool (MaxPooling2D)  (None, 112, 112, 64)      0         \n",
            "                                                                 \n",
            " block2_conv1 (Conv2D)       (None, 112, 112, 128)     73856     \n",
            "                                                                 \n",
            " block2_conv2 (Conv2D)       (None, 112, 112, 128)     147584    \n",
            "                                                                 \n",
            " block2_pool (MaxPooling2D)  (None, 56, 56, 128)       0         \n",
            "                                                                 \n",
            " block3_conv1 (Conv2D)       (None, 56, 56, 256)       295168    \n",
            "                                                                 \n",
            " block3_conv2 (Conv2D)       (None, 56, 56, 256)       590080    \n",
            "                                                                 \n",
            " block3_conv3 (Conv2D)       (None, 56, 56, 256)       590080    \n",
            "                                                                 \n",
            " block3_pool (MaxPooling2D)  (None, 28, 28, 256)       0         \n",
            "                                                                 \n",
            " block4_conv1 (Conv2D)       (None, 28, 28, 512)       1180160   \n",
            "                                                                 \n",
            " block4_conv2 (Conv2D)       (None, 28, 28, 512)       2359808   \n",
            "                                                                 \n",
            " block4_conv3 (Conv2D)       (None, 28, 28, 512)       2359808   \n",
            "                                                                 \n",
            " block4_pool (MaxPooling2D)  (None, 14, 14, 512)       0         \n",
            "                                                                 \n",
            " block5_conv1 (Conv2D)       (None, 14, 14, 512)       2359808   \n",
            "                                                                 \n",
            " block5_conv2 (Conv2D)       (None, 14, 14, 512)       2359808   \n",
            "                                                                 \n",
            " block5_conv3 (Conv2D)       (None, 14, 14, 512)       2359808   \n",
            "                                                                 \n",
            " block5_pool (MaxPooling2D)  (None, 7, 7, 512)         0         \n",
            "                                                                 \n",
            "=================================================================\n",
            "Total params: 14,714,688\n",
            "Trainable params: 14,714,688\n",
            "Non-trainable params: 0\n",
            "_________________________________________________________________\n"
          ]
        }
      ],
      "source": [
        "conv_base.summary()"
      ]
    },
    {
      "cell_type": "markdown",
      "source": [
        "**i. Without Fine-Tuning**"
      ],
      "metadata": {
        "id": "TpshX2DT5aVK"
      }
    },
    {
      "cell_type": "code",
      "execution_count": null,
      "metadata": {
        "id": "mkPtcZ7cXC3x"
      },
      "outputs": [],
      "source": [
        "# freezing all layers of the base model\n",
        "for layer in conv_base.layers:\n",
        "  layer.trainable = False   # conv_base.trainable = False (same function)"
      ]
    },
    {
      "cell_type": "markdown",
      "source": [
        "Functional API"
      ],
      "metadata": {
        "id": "egdidEi24DLt"
      }
    },
    {
      "cell_type": "code",
      "execution_count": null,
      "metadata": {
        "colab": {
          "base_uri": "https://localhost:8080/"
        },
        "id": "z-mfXV7EXDwc",
        "outputId": "92f0569f-a0a9-4028-912f-db864df59c8d"
      },
      "outputs": [
        {
          "output_type": "stream",
          "name": "stdout",
          "text": [
            "Model: \"model_4\"\n",
            "_________________________________________________________________\n",
            " Layer (type)                Output Shape              Param #   \n",
            "=================================================================\n",
            " input_1 (InputLayer)        [(None, 224, 224, 3)]     0         \n",
            "                                                                 \n",
            " block1_conv1 (Conv2D)       (None, 224, 224, 64)      1792      \n",
            "                                                                 \n",
            " block1_conv2 (Conv2D)       (None, 224, 224, 64)      36928     \n",
            "                                                                 \n",
            " block1_pool (MaxPooling2D)  (None, 112, 112, 64)      0         \n",
            "                                                                 \n",
            " block2_conv1 (Conv2D)       (None, 112, 112, 128)     73856     \n",
            "                                                                 \n",
            " block2_conv2 (Conv2D)       (None, 112, 112, 128)     147584    \n",
            "                                                                 \n",
            " block2_pool (MaxPooling2D)  (None, 56, 56, 128)       0         \n",
            "                                                                 \n",
            " block3_conv1 (Conv2D)       (None, 56, 56, 256)       295168    \n",
            "                                                                 \n",
            " block3_conv2 (Conv2D)       (None, 56, 56, 256)       590080    \n",
            "                                                                 \n",
            " block3_conv3 (Conv2D)       (None, 56, 56, 256)       590080    \n",
            "                                                                 \n",
            " block3_pool (MaxPooling2D)  (None, 28, 28, 256)       0         \n",
            "                                                                 \n",
            " block4_conv1 (Conv2D)       (None, 28, 28, 512)       1180160   \n",
            "                                                                 \n",
            " block4_conv2 (Conv2D)       (None, 28, 28, 512)       2359808   \n",
            "                                                                 \n",
            " block4_conv3 (Conv2D)       (None, 28, 28, 512)       2359808   \n",
            "                                                                 \n",
            " block4_pool (MaxPooling2D)  (None, 14, 14, 512)       0         \n",
            "                                                                 \n",
            " block5_conv1 (Conv2D)       (None, 14, 14, 512)       2359808   \n",
            "                                                                 \n",
            " block5_conv2 (Conv2D)       (None, 14, 14, 512)       2359808   \n",
            "                                                                 \n",
            " block5_conv3 (Conv2D)       (None, 14, 14, 512)       2359808   \n",
            "                                                                 \n",
            " block5_pool (MaxPooling2D)  (None, 7, 7, 512)         0         \n",
            "                                                                 \n",
            " flatten_5 (Flatten)         (None, 25088)             0         \n",
            "                                                                 \n",
            " dense_17 (Dense)            (None, 512)               12845568  \n",
            "                                                                 \n",
            " dense_18 (Dense)            (None, 256)               131328    \n",
            "                                                                 \n",
            " dense_19 (Dense)            (None, 128)               32896     \n",
            "                                                                 \n",
            " dense_20 (Dense)            (None, 64)                8256      \n",
            "                                                                 \n",
            " dense_21 (Dense)            (None, 30)                1950      \n",
            "                                                                 \n",
            "=================================================================\n",
            "Total params: 27,734,686\n",
            "Trainable params: 13,019,998\n",
            "Non-trainable params: 14,714,688\n",
            "_________________________________________________________________\n"
          ]
        }
      ],
      "source": [
        "# add new layers in existence pretrained model\n",
        "vgg = Flatten()(conv_base.output)\n",
        "vgg = Dense(512, activation='relu')(vgg)\n",
        "vgg = Dense(256, activation='relu')(vgg)\n",
        "vgg = Dense(128, activation='relu')(vgg)\n",
        "vgg = Dense(64, activation='relu')(vgg)\n",
        "\n",
        "output_layer = Dense(30, activation='softmax')(vgg)\n",
        "    \n",
        "vgg = Model(inputs=conv_base.input, outputs=output_layer)\n",
        "\n",
        "vgg.summary()"
      ]
    },
    {
      "cell_type": "code",
      "execution_count": null,
      "metadata": {
        "id": "HoA1t7wzXFy1"
      },
      "outputs": [],
      "source": [
        "vgg.compile(\n",
        "  optimizer = Adam(learning_rate=0.001),\n",
        "  loss = 'categorical_crossentropy',\n",
        "  metrics = ['accuracy']\n",
        ")"
      ]
    },
    {
      "cell_type": "code",
      "execution_count": null,
      "metadata": {
        "colab": {
          "base_uri": "https://localhost:8080/"
        },
        "id": "xyJV0KhzXKd-",
        "outputId": "17cf21bb-6a05-4db2-c952-bca601f30559"
      },
      "outputs": [
        {
          "output_type": "stream",
          "name": "stdout",
          "text": [
            "Epoch 1/30\n",
            "329/329 [==============================] - 142s 429ms/step - loss: 1.9776 - accuracy: 0.3906 - val_loss: 0.8428 - val_accuracy: 0.7113\n",
            "Epoch 2/30\n",
            "329/329 [==============================] - 142s 430ms/step - loss: 0.7586 - accuracy: 0.7501 - val_loss: 0.5053 - val_accuracy: 0.8200\n",
            "Epoch 3/30\n",
            "329/329 [==============================] - 140s 425ms/step - loss: 0.4853 - accuracy: 0.8387 - val_loss: 0.5596 - val_accuracy: 0.8263\n",
            "Epoch 4/30\n",
            "329/329 [==============================] - 139s 421ms/step - loss: 0.4005 - accuracy: 0.8674 - val_loss: 0.4123 - val_accuracy: 0.8603\n",
            "Epoch 5/30\n",
            "329/329 [==============================] - 138s 420ms/step - loss: 0.3487 - accuracy: 0.8845 - val_loss: 0.2044 - val_accuracy: 0.9333\n",
            "Epoch 6/30\n",
            "329/329 [==============================] - 138s 420ms/step - loss: 0.2836 - accuracy: 0.9026 - val_loss: 0.2670 - val_accuracy: 0.9197\n",
            "Epoch 7/30\n",
            "329/329 [==============================] - 138s 419ms/step - loss: 0.2471 - accuracy: 0.9151 - val_loss: 0.3592 - val_accuracy: 0.8830\n",
            "Epoch 8/30\n",
            "329/329 [==============================] - 137s 418ms/step - loss: 0.2224 - accuracy: 0.9250 - val_loss: 0.1631 - val_accuracy: 0.9490\n",
            "Epoch 9/30\n",
            "329/329 [==============================] - 136s 415ms/step - loss: 0.2168 - accuracy: 0.9280 - val_loss: 0.2136 - val_accuracy: 0.9317\n",
            "Epoch 10/30\n",
            "329/329 [==============================] - 138s 421ms/step - loss: 0.1915 - accuracy: 0.9370 - val_loss: 0.1473 - val_accuracy: 0.9547\n",
            "Epoch 11/30\n",
            "329/329 [==============================] - 137s 418ms/step - loss: 0.2124 - accuracy: 0.9303 - val_loss: 0.2156 - val_accuracy: 0.9270\n",
            "Epoch 12/30\n",
            "329/329 [==============================] - 143s 435ms/step - loss: 0.1857 - accuracy: 0.9379 - val_loss: 0.1369 - val_accuracy: 0.9610\n",
            "Epoch 13/30\n",
            "329/329 [==============================] - 138s 418ms/step - loss: 0.1664 - accuracy: 0.9462 - val_loss: 0.1753 - val_accuracy: 0.9513\n",
            "Epoch 14/30\n",
            "329/329 [==============================] - 138s 418ms/step - loss: 0.1865 - accuracy: 0.9375 - val_loss: 0.1449 - val_accuracy: 0.9593\n",
            "Epoch 15/30\n",
            "329/329 [==============================] - 138s 419ms/step - loss: 0.1702 - accuracy: 0.9425 - val_loss: 0.1171 - val_accuracy: 0.9650\n",
            "Epoch 16/30\n",
            "329/329 [==============================] - 137s 415ms/step - loss: 0.1320 - accuracy: 0.9562 - val_loss: 0.1857 - val_accuracy: 0.9467\n",
            "Epoch 17/30\n",
            "329/329 [==============================] - 137s 416ms/step - loss: 0.1639 - accuracy: 0.9465 - val_loss: 0.1640 - val_accuracy: 0.9530\n",
            "Epoch 18/30\n",
            "329/329 [==============================] - 138s 418ms/step - loss: 0.1398 - accuracy: 0.9547 - val_loss: 0.1306 - val_accuracy: 0.9640\n",
            "Epoch 19/30\n",
            "329/329 [==============================] - 140s 424ms/step - loss: 0.1385 - accuracy: 0.9559 - val_loss: 0.1481 - val_accuracy: 0.9590\n",
            "Epoch 20/30\n",
            "329/329 [==============================] - 141s 428ms/step - loss: 0.1395 - accuracy: 0.9552 - val_loss: 0.1456 - val_accuracy: 0.9597\n",
            "Epoch 20: early stopping\n"
          ]
        }
      ],
      "source": [
        "history = vgg.fit(\n",
        "      train_generator,\n",
        "      validation_data=validation_generator,\n",
        "      epochs=30,\n",
        "      steps_per_epoch=len(train_generator), \n",
        "      validation_steps=len(validation_generator), \n",
        "      callbacks = [early_stop],\n",
        "      verbose=1)"
      ]
    },
    {
      "cell_type": "code",
      "source": [
        "loss, accuracy = vgg.evaluate(train_generator, verbose=1)"
      ],
      "metadata": {
        "colab": {
          "base_uri": "https://localhost:8080/"
        },
        "id": "NJ21Cjk964U1",
        "outputId": "9497f88d-622f-4872-fa48-b3bee4a47ada"
      },
      "execution_count": null,
      "outputs": [
        {
          "output_type": "stream",
          "name": "stdout",
          "text": [
            "329/329 [==============================] - 128s 388ms/step - loss: 0.1263 - accuracy: 0.9590\n"
          ]
        }
      ]
    },
    {
      "cell_type": "code",
      "execution_count": null,
      "metadata": {
        "colab": {
          "base_uri": "https://localhost:8080/"
        },
        "id": "blVIYMnUtbWu",
        "outputId": "acbd3fa6-f0b8-48cc-8623-6f235caf7278"
      },
      "outputs": [
        {
          "output_type": "stream",
          "name": "stdout",
          "text": [
            "94/94 [==============================] - 15s 156ms/step - loss: 0.1456 - accuracy: 0.9597\n"
          ]
        }
      ],
      "source": [
        "val_loss, val_accuracy = vgg.evaluate(validation_generator, verbose=1)"
      ]
    },
    {
      "cell_type": "code",
      "execution_count": null,
      "metadata": {
        "colab": {
          "base_uri": "https://localhost:8080/"
        },
        "id": "GpTm5W_mk804",
        "outputId": "62c5e6dc-3f89-49aa-b2ba-639b69be6744"
      },
      "outputs": [
        {
          "output_type": "stream",
          "name": "stdout",
          "text": [
            "47/47 [==============================] - 8s 163ms/step - loss: 0.1600 - accuracy: 0.9493\n",
            "Accuracy: 94.93 %\n",
            "Loss:  0.1599970906972885\n"
          ]
        }
      ],
      "source": [
        "test_score = vgg.evaluate(test_generator, verbose=1)\n",
        "\n",
        "print(\"Accuracy: {:.2f} %\".format(test_score[1]*100)) \n",
        "print(\"Loss: \", test_score[0])"
      ]
    },
    {
      "cell_type": "code",
      "execution_count": null,
      "metadata": {
        "colab": {
          "base_uri": "https://localhost:8080/",
          "height": 265
        },
        "id": "VT6DShKBk83W",
        "outputId": "ae72abc0-f115-4451-9559-74d5f7d51130"
      },
      "outputs": [
        {
          "output_type": "display_data",
          "data": {
            "text/plain": [
              "<Figure size 720x288 with 2 Axes>"
            ],
            "image/png": "[encoded data removed]"
          },
          "metadata": {
            "needs_background": "light"
          }
        }
      ],
      "source": [
        "fig, ax = plt.subplots(1, 2, figsize=(10, 4))\n",
        "\n",
        "history_df = pd.DataFrame(history.history)\n",
        "history_df[['loss', 'val_loss']].plot(kind='line', ax=ax[0])\n",
        "history_df[['accuracy', 'val_accuracy']].plot(kind='line', ax=ax[1])\n",
        "plt.savefig(\"vgg_performance\", facecolor='w', bbox_inches=\"tight\", pad_inches=0.1)\n",
        "plt.show()"
      ]
    },
    {
      "cell_type": "code",
      "source": [
        "vgg.save('vgg.h5')"
      ],
      "metadata": {
        "id": "-x9ybPGH8hvn"
      },
      "execution_count": null,
      "outputs": []
    },
    {
      "cell_type": "markdown",
      "source": [
        "**ii. With fine tune**"
      ],
      "metadata": {
        "id": "dsH8gOjKQX1d"
      }
    },
    {
      "cell_type": "code",
      "source": [
        "# freezing all layers of the base model\n",
        "for layer in conv_base.layers[:-5]:\n",
        "  layer.trainable = False   # conv_base.trainable = False (same function)"
      ],
      "metadata": {
        "id": "XtjCUYtH8h4I"
      },
      "execution_count": null,
      "outputs": []
    },
    {
      "cell_type": "code",
      "source": [
        "# add new layers in existence pretrained model\n",
        "vgg = Flatten()(conv_base.output)\n",
        "vgg = Dense(512, activation='relu')(vgg)\n",
        "vgg = Dense(256, activation='relu')(vgg)\n",
        "vgg = Dense(128, activation='relu')(vgg)\n",
        "vgg = Dense(64, activation='relu')(vgg)\n",
        "\n",
        "output_layer = Dense(30, activation='softmax')(vgg)\n",
        "    \n",
        "vgg = Model(inputs=conv_base.input, outputs=output_layer)\n",
        "\n",
        "vgg.summary()"
      ],
      "metadata": {
        "colab": {
          "base_uri": "https://localhost:8080/"
        },
        "id": "OHOFzg9tQeX4",
        "outputId": "573753bb-19d5-48a1-de16-c9ad2e8dc895"
      },
      "execution_count": null,
      "outputs": [
        {
          "output_type": "stream",
          "name": "stdout",
          "text": [
            "Model: \"model_8\"\n",
            "_________________________________________________________________\n",
            " Layer (type)                Output Shape              Param #   \n",
            "=================================================================\n",
            " input_1 (InputLayer)        [(None, 224, 224, 3)]     0         \n",
            "                                                                 \n",
            " block1_conv1 (Conv2D)       (None, 224, 224, 64)      1792      \n",
            "                                                                 \n",
            " block1_conv2 (Conv2D)       (None, 224, 224, 64)      36928     \n",
            "                                                                 \n",
            " block1_pool (MaxPooling2D)  (None, 112, 112, 64)      0         \n",
            "                                                                 \n",
            " block2_conv1 (Conv2D)       (None, 112, 112, 128)     73856     \n",
            "                                                                 \n",
            " block2_conv2 (Conv2D)       (None, 112, 112, 128)     147584    \n",
            "                                                                 \n",
            " block2_pool (MaxPooling2D)  (None, 56, 56, 128)       0         \n",
            "                                                                 \n",
            " block3_conv1 (Conv2D)       (None, 56, 56, 256)       295168    \n",
            "                                                                 \n",
            " block3_conv2 (Conv2D)       (None, 56, 56, 256)       590080    \n",
            "                                                                 \n",
            " block3_conv3 (Conv2D)       (None, 56, 56, 256)       590080    \n",
            "                                                                 \n",
            " block3_pool (MaxPooling2D)  (None, 28, 28, 256)       0         \n",
            "                                                                 \n",
            " block4_conv1 (Conv2D)       (None, 28, 28, 512)       1180160   \n",
            "                                                                 \n",
            " block4_conv2 (Conv2D)       (None, 28, 28, 512)       2359808   \n",
            "                                                                 \n",
            " block4_conv3 (Conv2D)       (None, 28, 28, 512)       2359808   \n",
            "                                                                 \n",
            " block4_pool (MaxPooling2D)  (None, 14, 14, 512)       0         \n",
            "                                                                 \n",
            " block5_conv1 (Conv2D)       (None, 14, 14, 512)       2359808   \n",
            "                                                                 \n",
            " block5_conv2 (Conv2D)       (None, 14, 14, 512)       2359808   \n",
            "                                                                 \n",
            " block5_conv3 (Conv2D)       (None, 14, 14, 512)       2359808   \n",
            "                                                                 \n",
            " block5_pool (MaxPooling2D)  (None, 7, 7, 512)         0         \n",
            "                                                                 \n",
            " flatten_9 (Flatten)         (None, 25088)             0         \n",
            "                                                                 \n",
            " dense_37 (Dense)            (None, 512)               12845568  \n",
            "                                                                 \n",
            " dense_38 (Dense)            (None, 256)               131328    \n",
            "                                                                 \n",
            " dense_39 (Dense)            (None, 128)               32896     \n",
            "                                                                 \n",
            " dense_40 (Dense)            (None, 64)                8256      \n",
            "                                                                 \n",
            " dense_41 (Dense)            (None, 30)                1950      \n",
            "                                                                 \n",
            "=================================================================\n",
            "Total params: 27,734,686\n",
            "Trainable params: 13,019,998\n",
            "Non-trainable params: 14,714,688\n",
            "_________________________________________________________________\n"
          ]
        }
      ]
    },
    {
      "cell_type": "code",
      "source": [
        "vgg.compile(\n",
        "  optimizer = Adam(learning_rate=0.001),\n",
        "  loss = 'categorical_crossentropy',\n",
        "  metrics = ['accuracy']\n",
        ")"
      ],
      "metadata": {
        "id": "4OzWTM9DQpTq"
      },
      "execution_count": null,
      "outputs": []
    },
    {
      "cell_type": "code",
      "source": [
        "history = vgg.fit(\n",
        "      train_generator,\n",
        "      validation_data=validation_generator,\n",
        "      epochs=30,\n",
        "      steps_per_epoch=len(train_generator), \n",
        "      validation_steps=len(validation_generator), \n",
        "      callbacks = [early_stop],\n",
        "      verbose=1)"
      ],
      "metadata": {
        "colab": {
          "base_uri": "https://localhost:8080/"
        },
        "id": "yPg17gYZQpXK",
        "outputId": "0858df12-3937-4925-c2e6-e9fb40005d1e"
      },
      "execution_count": null,
      "outputs": [
        {
          "output_type": "stream",
          "name": "stdout",
          "text": [
            "Epoch 1/30\n",
            "329/329 [==============================] - 139s 420ms/step - loss: 2.3330 - accuracy: 0.2920 - val_loss: 1.1676 - val_accuracy: 0.6067\n",
            "Epoch 2/30\n",
            "329/329 [==============================] - 138s 419ms/step - loss: 0.9342 - accuracy: 0.6845 - val_loss: 0.5187 - val_accuracy: 0.8240\n",
            "Epoch 3/30\n",
            "329/329 [==============================] - 136s 413ms/step - loss: 0.5578 - accuracy: 0.8122 - val_loss: 0.4011 - val_accuracy: 0.8703\n",
            "Epoch 4/30\n",
            "329/329 [==============================] - 136s 412ms/step - loss: 0.3836 - accuracy: 0.8727 - val_loss: 0.2651 - val_accuracy: 0.9183\n",
            "Epoch 5/30\n",
            "329/329 [==============================] - 136s 414ms/step - loss: 0.3389 - accuracy: 0.8879 - val_loss: 0.1975 - val_accuracy: 0.9377\n",
            "Epoch 6/30\n",
            "329/329 [==============================] - 137s 416ms/step - loss: 0.3011 - accuracy: 0.8996 - val_loss: 0.2277 - val_accuracy: 0.9293\n",
            "Epoch 7/30\n",
            "329/329 [==============================] - 136s 414ms/step - loss: 0.2536 - accuracy: 0.9136 - val_loss: 0.1768 - val_accuracy: 0.9430\n",
            "Epoch 8/30\n",
            "329/329 [==============================] - 136s 413ms/step - loss: 0.2335 - accuracy: 0.9201 - val_loss: 0.2144 - val_accuracy: 0.9357\n",
            "Epoch 9/30\n",
            "329/329 [==============================] - 136s 413ms/step - loss: 0.2263 - accuracy: 0.9251 - val_loss: 0.2092 - val_accuracy: 0.9310\n",
            "Epoch 10/30\n",
            "329/329 [==============================] - 136s 412ms/step - loss: 0.2378 - accuracy: 0.9216 - val_loss: 0.1492 - val_accuracy: 0.9580\n",
            "Epoch 11/30\n",
            "329/329 [==============================] - 135s 411ms/step - loss: 0.1852 - accuracy: 0.9389 - val_loss: 0.1347 - val_accuracy: 0.9573\n",
            "Epoch 12/30\n",
            "329/329 [==============================] - 136s 413ms/step - loss: 0.1738 - accuracy: 0.9418 - val_loss: 0.1260 - val_accuracy: 0.9610\n",
            "Epoch 13/30\n",
            "329/329 [==============================] - 136s 413ms/step - loss: 0.1593 - accuracy: 0.9474 - val_loss: 0.1572 - val_accuracy: 0.9470\n",
            "Epoch 14/30\n",
            "329/329 [==============================] - 136s 412ms/step - loss: 0.1817 - accuracy: 0.9385 - val_loss: 0.1359 - val_accuracy: 0.9600\n",
            "Epoch 15/30\n",
            "329/329 [==============================] - 135s 412ms/step - loss: 0.1397 - accuracy: 0.9539 - val_loss: 0.1238 - val_accuracy: 0.9627\n",
            "Epoch 16/30\n",
            "329/329 [==============================] - 136s 412ms/step - loss: 0.1492 - accuracy: 0.9536 - val_loss: 0.1209 - val_accuracy: 0.9610\n",
            "Epoch 17/30\n",
            "329/329 [==============================] - 135s 410ms/step - loss: 0.1541 - accuracy: 0.9482 - val_loss: 0.1766 - val_accuracy: 0.9463\n",
            "Epoch 18/30\n",
            "329/329 [==============================] - 136s 413ms/step - loss: 0.1443 - accuracy: 0.9532 - val_loss: 0.1191 - val_accuracy: 0.9637\n",
            "Epoch 19/30\n",
            "329/329 [==============================] - 136s 413ms/step - loss: 0.1353 - accuracy: 0.9547 - val_loss: 0.1055 - val_accuracy: 0.9713\n",
            "Epoch 20/30\n",
            "329/329 [==============================] - 136s 412ms/step - loss: 0.1520 - accuracy: 0.9502 - val_loss: 0.1591 - val_accuracy: 0.9557\n",
            "Epoch 21/30\n",
            "329/329 [==============================] - 136s 414ms/step - loss: 0.1174 - accuracy: 0.9635 - val_loss: 0.1289 - val_accuracy: 0.9643\n",
            "Epoch 22/30\n",
            "329/329 [==============================] - 135s 409ms/step - loss: 0.1356 - accuracy: 0.9558 - val_loss: 0.2727 - val_accuracy: 0.9187\n",
            "Epoch 23/30\n",
            "329/329 [==============================] - 135s 411ms/step - loss: 0.1198 - accuracy: 0.9596 - val_loss: 0.1089 - val_accuracy: 0.9713\n",
            "Epoch 24/30\n",
            "329/329 [==============================] - 135s 411ms/step - loss: 0.1452 - accuracy: 0.9522 - val_loss: 0.1538 - val_accuracy: 0.9540\n",
            "Epoch 24: early stopping\n"
          ]
        }
      ]
    },
    {
      "cell_type": "code",
      "source": [
        "val_loss, val_accuracy = vgg.evaluate(validation_generator, verbose=1)"
      ],
      "metadata": {
        "colab": {
          "base_uri": "https://localhost:8080/"
        },
        "id": "Rn2HAE96QebY",
        "outputId": "113e0d0b-1419-43fc-87b2-237c2ca8c73a"
      },
      "execution_count": null,
      "outputs": [
        {
          "output_type": "stream",
          "name": "stdout",
          "text": [
            "94/94 [==============================] - 14s 152ms/step - loss: 0.1538 - accuracy: 0.9540\n"
          ]
        }
      ]
    },
    {
      "cell_type": "code",
      "source": [
        "test_score = vgg.evaluate(test_generator, verbose=1)\n",
        "\n",
        "print(\"Accuracy: {:.2f} %\".format(test_score[1]*100)) \n",
        "print(\"Loss: \", test_score[0])"
      ],
      "metadata": {
        "colab": {
          "base_uri": "https://localhost:8080/"
        },
        "id": "ZWVHlKs2RPB1",
        "outputId": "6d8a24f3-1fc2-4efe-e577-8d2e4c9ce53a"
      },
      "execution_count": null,
      "outputs": [
        {
          "output_type": "stream",
          "name": "stdout",
          "text": [
            "47/47 [==============================] - 7s 158ms/step - loss: 0.2232 - accuracy: 0.9373\n",
            "Accuracy: 93.73 %\n",
            "Loss:  0.2231551706790924\n"
          ]
        }
      ]
    },
    {
      "cell_type": "code",
      "source": [
        "fig, ax = plt.subplots(1, 2, figsize=(10, 4))\n",
        "\n",
        "history_df = pd.DataFrame(history.history)\n",
        "history_df[['loss', 'val_loss']].plot(kind='line', ax=ax[0])\n",
        "history_df[['accuracy', 'val_accuracy']].plot(kind='line', ax=ax[1])\n",
        "plt.savefig(\"vgg_performance\", facecolor='w', bbox_inches=\"tight\", pad_inches=0.1)\n",
        "plt.show()"
      ],
      "metadata": {
        "colab": {
          "base_uri": "https://localhost:8080/",
          "height": 268
        },
        "id": "GXV3UINuRPFT",
        "outputId": "ce2f840b-ccdc-491f-e76d-6cd01e10aaa2"
      },
      "execution_count": null,
      "outputs": [
        {
          "output_type": "display_data",
          "data": {
            "text/plain": [
              "<Figure size 720x288 with 2 Axes>"
            ],
            "image/png": "[encoded data removed]"
          },
          "metadata": {
            "needs_background": "light"
          }
        }
      ]
    },
    {
      "cell_type": "code",
      "execution_count": null,
      "metadata": {
        "colab": {
          "base_uri": "https://localhost:8080/"
        },
        "id": "cUuVu0IVlArn",
        "outputId": "26ae4ac9-ac37-4eb4-dc28-4b7370cfa436"
      },
      "outputs": [
        {
          "output_type": "stream",
          "name": "stdout",
          "text": [
            "Dictionary :  {'ahh': 0, 'ba': 1, 'cha': 2, 'chaa': 3, 'dha': 4, 'dza': 5, 'ga': 6, 'ha': 7, 'ja': 8, 'ka': 9, 'kha': 10, 'la': 11, 'ma': 12, 'na': 13, 'nga': 14, 'nya': 15, 'pa': 16, 'pha': 17, 'ra': 18, 'sa': 19, 'sha': 20, 'ta': 21, 'tha': 22, 'tsa': 23, 'tsaaa': 24, 'uaa': 25, 'wa': 26, 'ya': 27, 'za': 28, 'zha': 29}\n",
            "List of class name :  ['ahh', 'ba', 'cha', 'chaa', 'dha', 'dza', 'ga', 'ha', 'ja', 'ka', 'kha', 'la', 'ma', 'na', 'nga', 'nya', 'pa', 'pha', 'ra', 'sa', 'sha', 'ta', 'tha', 'tsa', 'tsaaa', 'uaa', 'wa', 'ya', 'za', 'zha']\n"
          ]
        }
      ],
      "source": [
        "classes_name = test_generator.class_indices\n",
        "print('Dictionary : ', classes_name)\n",
        "classes_name = list(classes_name.keys())\n",
        "print('List of class name : ', classes_name)"
      ]
    },
    {
      "cell_type": "code",
      "execution_count": null,
      "metadata": {
        "id": "s3fEq8eDlAu7"
      },
      "outputs": [],
      "source": [
        "def plot_confusion_matrix(cm, classes, title='Confusion matrix', cmap=plt.cm.Blues):\n",
        "  plt.figure(figsize=(12,12))\n",
        "  plt.imshow(cm, interpolation='nearest', cmap=cmap)\n",
        "  plt.title(title)\n",
        "  plt.colorbar()\n",
        "\n",
        "  tick_marks = np.arange(len(classes))\n",
        "  plt.xticks(tick_marks, classes, rotation=45)\n",
        "  plt.yticks(tick_marks, classes)\n",
        "\n",
        "  thresh = cm.max() / 2.\n",
        "  for i, j in itertools.product(range(cm.shape[0]), range(cm.shape[1])):\n",
        "    plt.text(j, i, cm[i, j], horizontalalignment=\"center\", color=\"white\" if cm[i, j] > thresh else \"black\")\n",
        "  plt.tight_layout()\n",
        "  plt.ylabel('True label', weight='bold').set_fontsize('12')\n",
        "  plt.xlabel('Predicted label', weight='bold').set_fontsize('12')"
      ]
    },
    {
      "cell_type": "code",
      "execution_count": null,
      "metadata": {
        "colab": {
          "base_uri": "https://localhost:8080/"
        },
        "id": "fYDV2d5dlIEW",
        "outputId": "ac1869ee-8c59-4c86-daaa-5848a2739af9"
      },
      "outputs": [
        {
          "output_type": "stream",
          "name": "stdout",
          "text": [
            "['ahh', 'ba', 'cha', 'chaa', 'dha', 'dza', 'ga', 'ha', 'ja', 'ka', 'kha', 'la', 'ma', 'na', 'nga', 'nya', 'pa', 'pha', 'ra', 'sa', 'sha', 'ta', 'tha', 'tsa', 'tsaaa', 'uaa', 'wa', 'ya', 'za', 'zha']\n"
          ]
        }
      ],
      "source": [
        "#Print the Target names\n",
        "from sklearn.metrics import classification_report, confusion_matrix\n",
        "import itertools\n",
        "\n",
        "target_names = []\n",
        "for key in train_generator.class_indices:\n",
        "    target_names.append(key)\n",
        "\n",
        "print(target_names)"
      ]
    },
    {
      "cell_type": "code",
      "execution_count": null,
      "metadata": {
        "colab": {
          "base_uri": "https://localhost:8080/"
        },
        "id": "wdIdP8bZlK8y",
        "outputId": "0a2e7eea-08a3-49e8-89a3-14a60ab02815"
      },
      "outputs": [
        {
          "output_type": "stream",
          "name": "stdout",
          "text": [
            "47/47 [==============================] - 7s 156ms/step\n",
            "\n",
            "****************** Performance of Model **************\n",
            "\n",
            "              precision    recall  f1-score   support\n",
            "\n",
            "         ahh       0.98      0.86      0.91        50\n",
            "          ba       0.98      0.94      0.96        50\n",
            "         cha       1.00      0.80      0.89        50\n",
            "        chaa       0.82      0.98      0.89        50\n",
            "         dha       0.94      1.00      0.97        50\n",
            "         dza       0.96      1.00      0.98        50\n",
            "          ga       1.00      0.90      0.95        50\n",
            "          ha       0.89      0.96      0.92        50\n",
            "          ja       1.00      1.00      1.00        50\n",
            "          ka       1.00      1.00      1.00        50\n",
            "         kha       0.96      0.98      0.97        50\n",
            "          la       0.96      0.92      0.94        50\n",
            "          ma       0.94      1.00      0.97        50\n",
            "          na       1.00      0.94      0.97        50\n",
            "         nga       1.00      0.92      0.96        50\n",
            "         nya       0.96      0.88      0.92        50\n",
            "          pa       0.83      0.96      0.89        50\n",
            "         pha       1.00      0.68      0.81        50\n",
            "          ra       1.00      0.96      0.98        50\n",
            "          sa       0.96      1.00      0.98        50\n",
            "         sha       1.00      0.96      0.98        50\n",
            "          ta       0.93      1.00      0.96        50\n",
            "         tha       1.00      1.00      1.00        50\n",
            "         tsa       0.96      1.00      0.98        50\n",
            "       tsaaa       0.98      0.90      0.94        50\n",
            "         uaa       0.94      0.98      0.96        50\n",
            "          wa       0.91      1.00      0.95        50\n",
            "          ya       0.89      0.98      0.93        50\n",
            "          za       0.96      0.98      0.97        50\n",
            "         zha       0.86      1.00      0.93        50\n",
            "\n",
            "    accuracy                           0.95      1500\n",
            "   macro avg       0.95      0.95      0.95      1500\n",
            "weighted avg       0.95      0.95      0.95      1500\n",
            "\n"
          ]
        }
      ],
      "source": [
        "Y_pred = vgg.predict(test_generator)\n",
        "y_pred = np.argmax(Y_pred, axis=1)\n",
        "\n",
        "print('\\n****************** Performance of Model **************\\n')\n",
        "print(classification_report(test_generator.classes, y_pred, target_names=target_names))"
      ]
    },
    {
      "cell_type": "code",
      "execution_count": null,
      "metadata": {
        "colab": {
          "base_uri": "https://localhost:8080/",
          "height": 873
        },
        "id": "4PUzrjILlPhI",
        "outputId": "dea9f2eb-f06f-4575-baaf-be4ba555e6dd"
      },
      "outputs": [
        {
          "output_type": "display_data",
          "data": {
            "text/plain": [
              "<Figure size 864x864 with 2 Axes>"
            ],
            "image/png": "[encoded data removed]"
          },
          "metadata": {
            "needs_background": "light"
          }
        }
      ],
      "source": [
        "cm = confusion_matrix(test_generator.classes, y_pred)\n",
        "plot_confusion_matrix(cm, target_names)\n",
        "plt.title('Confusion Matrix', weight='bold').set_fontsize('14')\n",
        "plt.savefig(\"vgg_cm\", facecolor='w', bbox_inches=\"tight\", pad_inches=0.1)\n",
        "plt.show()"
      ]
    },
    {
      "cell_type": "code",
      "execution_count": null,
      "metadata": {
        "colab": {
          "base_uri": "https://localhost:8080/",
          "height": 230
        },
        "id": "2P_g8Z1LlQW9",
        "outputId": "9e7994db-65ca-49dc-d960-3f6ea244550f"
      },
      "outputs": [
        {
          "data": {
            "text/html": [
              "\n",
              "     <input type=\"file\" id=\"files-f5a5b3fb-9faa-4d41-a06c-7b80a47031e1\" name=\"files[]\" multiple disabled\n",
              "        style=\"border:none\" />\n",
              "     <output id=\"result-f5a5b3fb-9faa-4d41-a06c-7b80a47031e1\">\n",
              "      Upload widget is only available when the cell has been executed in the\n",
              "      current browser session. Please rerun this cell to enable.\n",
              "      </output>\n",
              "      <script>// Copyright 2017 Google LLC\n",
              "//\n",
              "// Licensed under the Apache License, Version 2.0 (the \"License\");\n",
              "// you may not use this file except in compliance with the License.\n",
              "// You may obtain a copy of the License at\n",
              "//\n",
              "//      http://www.apache.org/licenses/LICENSE-2.0\n",
              "//\n",
              "// Unless required by applicable law or agreed to in writing, software\n",
              "// distributed under the License is distributed on an \"AS IS\" BASIS,\n",
              "// WITHOUT WARRANTIES OR CONDITIONS OF ANY KIND, either express or implied.\n",
              "// See the License for the specific language governing permissions and\n",
              "// limitations under the License.\n",
              "\n",
              "/**\n",
              " * @fileoverview Helpers for google.colab Python module.\n",
              " */\n",
              "(function(scope) {\n",
              "function span(text, styleAttributes = {}) {\n",
              "  const element = document.createElement('span');\n",
              "  element.textContent = text;\n",
              "  for (const key of Object.keys(styleAttributes)) {\n",
              "    element.style[key] = styleAttributes[key];\n",
              "  }\n",
              "  return element;\n",
              "}\n",
              "\n",
              "// Max number of bytes which will be uploaded at a time.\n",
              "const MAX_PAYLOAD_SIZE = 100 * 1024;\n",
              "\n",
              "function _uploadFiles(inputId, outputId) {\n",
              "  const steps = uploadFilesStep(inputId, outputId);\n",
              "  const outputElement = document.getElementById(outputId);\n",
              "  // Cache steps on the outputElement to make it available for the next call\n",
              "  // to uploadFilesContinue from Python.\n",
              "  outputElement.steps = steps;\n",
              "\n",
              "  return _uploadFilesContinue(outputId);\n",
              "}\n",
              "\n",
              "// This is roughly an async generator (not supported in the browser yet),\n",
              "// where there are multiple asynchronous steps and the Python side is going\n",
              "// to poll for completion of each step.\n",
              "// This uses a Promise to block the python side on completion of each step,\n",
              "// then passes the result of the previous step as the input to the next step.\n",
              "function _uploadFilesContinue(outputId) {\n",
              "  const outputElement = document.getElementById(outputId);\n",
              "  const steps = outputElement.steps;\n",
              "\n",
              "  const next = steps.next(outputElement.lastPromiseValue);\n",
              "  return Promise.resolve(next.value.promise).then((value) => {\n",
              "    // Cache the last promise value to make it available to the next\n",
              "    // step of the generator.\n",
              "    outputElement.lastPromiseValue = value;\n",
              "    return next.value.response;\n",
              "  });\n",
              "}\n",
              "\n",
              "/**\n",
              " * Generator function which is called between each async step of the upload\n",
              " * process.\n",
              " * @param {string} inputId Element ID of the input file picker element.\n",
              " * @param {string} outputId Element ID of the output display.\n",
              " * @return {!Iterable<!Object>} Iterable of next steps.\n",
              " */\n",
              "function* uploadFilesStep(inputId, outputId) {\n",
              "  const inputElement = document.getElementById(inputId);\n",
              "  inputElement.disabled = false;\n",
              "\n",
              "  const outputElement = document.getElementById(outputId);\n",
              "  outputElement.innerHTML = '';\n",
              "\n",
              "  const pickedPromise = new Promise((resolve) => {\n",
              "    inputElement.addEventListener('change', (e) => {\n",
              "      resolve(e.target.files);\n",
              "    });\n",
              "  });\n",
              "\n",
              "  const cancel = document.createElement('button');\n",
              "  inputElement.parentElement.appendChild(cancel);\n",
              "  cancel.textContent = 'Cancel upload';\n",
              "  const cancelPromise = new Promise((resolve) => {\n",
              "    cancel.onclick = () => {\n",
              "      resolve(null);\n",
              "    };\n",
              "  });\n",
              "\n",
              "  // Wait for the user to pick the files.\n",
              "  const files = yield {\n",
              "    promise: Promise.race([pickedPromise, cancelPromise]),\n",
              "    response: {\n",
              "      action: 'starting',\n",
              "    }\n",
              "  };\n",
              "\n",
              "  cancel.remove();\n",
              "\n",
              "  // Disable the input element since further picks are not allowed.\n",
              "  inputElement.disabled = true;\n",
              "\n",
              "  if (!files) {\n",
              "    return {\n",
              "      response: {\n",
              "        action: 'complete',\n",
              "      }\n",
              "    };\n",
              "  }\n",
              "\n",
              "  for (const file of files) {\n",
              "    const li = document.createElement('li');\n",
              "    li.append(span(file.name, {fontWeight: 'bold'}));\n",
              "    li.append(span(\n",
              "        `(${file.type || 'n/a'}) - ${file.size} bytes, ` +\n",
              "        `last modified: ${\n",
              "            file.lastModifiedDate ? file.lastModifiedDate.toLocaleDateString() :\n",
              "                                    'n/a'} - `));\n",
              "    const percent = span('0% done');\n",
              "    li.appendChild(percent);\n",
              "\n",
              "    outputElement.appendChild(li);\n",
              "\n",
              "    const fileDataPromise = new Promise((resolve) => {\n",
              "      const reader = new FileReader();\n",
              "      reader.onload = (e) => {\n",
              "        resolve(e.target.result);\n",
              "      };\n",
              "      reader.readAsArrayBuffer(file);\n",
              "    });\n",
              "    // Wait for the data to be ready.\n",
              "    let fileData = yield {\n",
              "      promise: fileDataPromise,\n",
              "      response: {\n",
              "        action: 'continue',\n",
              "      }\n",
              "    };\n",
              "\n",
              "    // Use a chunked sending to avoid message size limits. See b/62115660.\n",
              "    let position = 0;\n",
              "    do {\n",
              "      const length = Math.min(fileData.byteLength - position, MAX_PAYLOAD_SIZE);\n",
              "      const chunk = new Uint8Array(fileData, position, length);\n",
              "      position += length;\n",
              "\n",
              "      const base64 = btoa(String.fromCharCode.apply(null, chunk));\n",
              "      yield {\n",
              "        response: {\n",
              "          action: 'append',\n",
              "          file: file.name,\n",
              "          data: base64,\n",
              "        },\n",
              "      };\n",
              "\n",
              "      let percentDone = fileData.byteLength === 0 ?\n",
              "          100 :\n",
              "          Math.round((position / fileData.byteLength) * 100);\n",
              "      percent.textContent = `${percentDone}% done`;\n",
              "\n",
              "    } while (position < fileData.byteLength);\n",
              "  }\n",
              "\n",
              "  // All done.\n",
              "  yield {\n",
              "    response: {\n",
              "      action: 'complete',\n",
              "    }\n",
              "  };\n",
              "}\n",
              "\n",
              "scope.google = scope.google || {};\n",
              "scope.google.colab = scope.google.colab || {};\n",
              "scope.google.colab._files = {\n",
              "  _uploadFiles,\n",
              "  _uploadFilesContinue,\n",
              "};\n",
              "})(self);\n",
              "</script> "
            ],
            "text/plain": [
              "<IPython.core.display.HTML object>"
            ]
          },
          "metadata": {},
          "output_type": "display_data"
        },
        {
          "name": "stdout",
          "output_type": "stream",
          "text": [
            "Saving 5.jpg to 5.jpg\n",
            "1/1 [==============================] - 1s 867ms/step\n",
            "\n",
            "\n",
            "[7.0172351e-13 1.0036066e-10 6.7504184e-09 2.5927392e-08 8.0491831e-13\n",
            " 1.8454502e-14 1.1065899e-06 3.3537352e-13 2.2205507e-10 2.9430168e-16\n",
            " 1.2422753e-10 2.9028424e-13 1.2899880e-08 4.0748919e-12 7.2445237e-15\n",
            " 2.9308318e-13 2.1147388e-13 8.0126267e-15 2.0108657e-14 1.0166548e-12\n",
            " 9.8420942e-01 2.0501365e-13 1.0561765e-15 5.7679615e-13 1.7927711e-13\n",
            " 1.5789434e-02 6.8089605e-12 3.5745433e-13 3.4572196e-09 4.2994600e-10]\n"
          ]
        }
      ],
      "source": [
        "from google.colab import files\n",
        "from keras.utils import load_img, img_to_array\n",
        "\n",
        "uploaded = files.upload()\n",
        "\n",
        "for fn in uploaded.keys():\n",
        " \n",
        "  # predicting images\n",
        "  path = '/content/' + fn\n",
        "  img = load_img(path, target_size=(224, 224))\n",
        "  x = img_to_array(img)\n",
        "  x /= 255\n",
        "  x = np.expand_dims(x, axis=0)\n",
        "\n",
        "  images = np.vstack([x])\n",
        "  prediction = model.predict(images, batch_size=1)\n",
        "  print('\\n')\n",
        "  print(prediction[0])"
      ]
    },
    {
      "cell_type": "code",
      "execution_count": null,
      "metadata": {
        "colab": {
          "base_uri": "https://localhost:8080/"
        },
        "id": "eZ4NS7hvlMna",
        "outputId": "584831f6-7e62-440e-fe34-0bfbafc28c51"
      },
      "outputs": [
        {
          "name": "stdout",
          "output_type": "stream",
          "text": [
            "The predicted class is [20] i.e sha\n"
          ]
        }
      ],
      "source": [
        "classes = np.argmax(prediction, axis = 1)\n",
        "classes_list = classes_name[np.argmax(prediction)]\n",
        "print('The predicted class is {} i.e {}'.format(classes, classes_list))"
      ]
    },
    {
      "cell_type": "markdown",
      "source": [
        "VGG16 is better than CNN due to its deeper architecture and higher accuracy. The VGG16 architecture consists of 16 layers, including 13 convolutional layers, which allows for better feature extraction and a more accurate prediction of the input image. Overall, VGG16 is better than CNN because it has a deeper architecture, uses smaller kernel sizes, and employs max-pooling layers, which improves the accuracy of image classification tasks."
      ],
      "metadata": {
        "id": "Vk914uN0UOmY"
      }
    }
  ],
  "metadata": {
    "accelerator": "GPU",
    "colab": {
      "provenance": []
    },
    "gpuClass": "standard",
    "kernelspec": {
      "display_name": "Python 3",
      "name": "python3"
    },
    "language_info": {
      "name": "python"
    }
  },
  "nbformat": 4,
  "nbformat_minor": 0
}